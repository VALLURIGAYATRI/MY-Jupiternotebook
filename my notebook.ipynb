{
 "cells": [
  {
   "cell_type": "markdown",
   "id": "209e81bf-aa38-45fb-9fc3-03a9ddacc5cd",
   "metadata": {},
   "source": [
    "# MY Jupyter Notebook on IBM Watson studio"
   ]
  },
  {
   "cell_type": "markdown",
   "id": "58c6147c-b647-4ca8-ae1f-9d89aa3eefba",
   "metadata": {},
   "source": [
    "## <b> Gayatri </b>"
   ]
  },
  {
   "cell_type": "markdown",
   "id": "f55ca436-ed3f-4972-94fa-3c8137426151",
   "metadata": {},
   "source": [
    " *I am intersted in data science because I love to analyze and predict the outcomes using the data*"
   ]
  },
  {
   "cell_type": "markdown",
   "id": "a5b29298-1b6a-4f19-9d32-96227befec7d",
   "metadata": {},
   "source": [
    "### Cell 5 will print  a string \" Hello Learner\""
   ]
  },
  {
   "cell_type": "code",
   "execution_count": 4,
   "id": "2a87bfca-ad67-4939-b321-1cee9a323901",
   "metadata": {},
   "outputs": [
    {
     "name": "stdout",
     "output_type": "stream",
     "text": [
      "Hello Learner\n"
     ]
    }
   ],
   "source": [
    "print(\"Hello Learner\")"
   ]
  },
  {
   "cell_type": "markdown",
   "id": "2e44ba35-9036-43b4-a2ad-881669d110dc",
   "metadata": {},
   "source": [
    "Hi \n",
    "***\n",
    "How are you"
   ]
  },
  {
   "cell_type": "markdown",
   "id": "d065afe3-2384-44b7-b8ad-6934c98c63c2",
   "metadata": {},
   "source": [
    "[Google](http://google.com)"
   ]
  },
  {
   "cell_type": "markdown",
   "id": "241f1eec-1d85-4b89-bcc8-e08ae31db2cf",
   "metadata": {},
   "source": [
    "[click me](http://coursera.com)"
   ]
  },
  {
   "cell_type": "code",
   "execution_count": null,
   "id": "e939b0e2-7e7b-4d4d-8441-489306cf6dde",
   "metadata": {},
   "outputs": [],
   "source": []
  }
 ],
 "metadata": {
  "kernelspec": {
   "display_name": "Python",
   "language": "python",
   "name": "conda-env-python-py"
  },
  "language_info": {
   "codemirror_mode": {
    "name": "ipython",
    "version": 3
   },
   "file_extension": ".py",
   "mimetype": "text/x-python",
   "name": "python",
   "nbconvert_exporter": "python",
   "pygments_lexer": "ipython3",
   "version": "3.7.12"
  }
 },
 "nbformat": 4,
 "nbformat_minor": 5
}
